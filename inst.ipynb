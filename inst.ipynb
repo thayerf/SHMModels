{
 "cells": [
  {
   "cell_type": "code",
   "execution_count": 1,
   "metadata": {},
   "outputs": [
    {
     "name": "stdout",
     "output_type": "stream",
     "text": [
      "Found existing installation: SHMModels 1.0\n",
      "Uninstalling SHMModels-1.0:\n",
      "  Successfully uninstalled SHMModels-1.0\n"
     ]
    }
   ],
   "source": [
    "!pip uninstall -y SHMModels"
   ]
  },
  {
   "cell_type": "code",
   "execution_count": 1,
   "metadata": {},
   "outputs": [
    {
     "name": "stdout",
     "output_type": "stream",
     "text": [
      "Processing /home/tfisher2/shm/SHMModels\n",
      "  Preparing metadata (setup.py) ... \u001b[?25ldone\n",
      "\u001b[?25hBuilding wheels for collected packages: SHMModels\n",
      "  Building wheel for SHMModels (setup.py) ... \u001b[?25ldone\n",
      "\u001b[?25h  Created wheel for SHMModels: filename=SHMModels-1.1-py3-none-any.whl size=14465 sha256=cd8f56856c2e58093f35815102dac31f76e9e233547ebb505e8bc2e41c984ebc\n",
      "  Stored in directory: /tmp/pip-ephem-wheel-cache-kxynkzza/wheels/a0/32/fd/4e3f9166fc854a20a92b0a7c2c6f5ffc3f52ba17fe66fbf388\n",
      "Successfully built SHMModels\n",
      "Installing collected packages: SHMModels\n",
      "Successfully installed SHMModels-1.1\n"
     ]
    }
   ],
   "source": [
    "!pip install ."
   ]
  },
  {
   "cell_type": "code",
   "execution_count": null,
   "metadata": {},
   "outputs": [],
   "source": []
  }
 ],
 "metadata": {
  "kernelspec": {
   "display_name": "shmpy",
   "language": "python",
   "name": "python3"
  },
  "language_info": {
   "codemirror_mode": {
    "name": "ipython",
    "version": 3
   },
   "file_extension": ".py",
   "mimetype": "text/x-python",
   "name": "python",
   "nbconvert_exporter": "python",
   "pygments_lexer": "ipython3",
   "version": "3.10.8"
  },
  "orig_nbformat": 4,
  "vscode": {
   "interpreter": {
    "hash": "f74807ad2b086d7d60f997b7f0a156160bd3d30b4c7ef6a706cdf8b5d55bba48"
   }
  }
 },
 "nbformat": 4,
 "nbformat_minor": 2
}
